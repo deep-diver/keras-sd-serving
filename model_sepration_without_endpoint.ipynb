{
 "cells": [
  {
   "cell_type": "code",
   "execution_count": 1,
   "id": "c2b5fdaf",
   "metadata": {},
   "outputs": [
    {
     "name": "stdout",
     "output_type": "stream",
     "text": [
      "\u001b[33mWARNING: Running pip as the 'root' user can result in broken permissions and conflicting behaviour with the system package manager. It is recommended to use a virtual environment instead: https://pip.pypa.io/warnings/venv\u001b[0m\u001b[33m\n",
      "\u001b[0m"
     ]
    }
   ],
   "source": [
    "!pip install -U tensorflow\n",
    "!pip install keras-cv"
   ]
  },
  {
   "cell_type": "code",
   "execution_count": null,
   "id": "5174f51d",
   "metadata": {},
   "outputs": [],
   "source": []
  },
  {
   "cell_type": "code",
   "execution_count": 2,
   "id": "5c8c56fe",
   "metadata": {},
   "outputs": [
    {
     "name": "stderr",
     "output_type": "stream",
     "text": [
      "2022-12-17 13:10:19.032642: I tensorflow/core/platform/cpu_feature_guard.cc:193] This TensorFlow binary is optimized with oneAPI Deep Neural Network Library (oneDNN) to use the following CPU instructions in performance-critical operations:  AVX2 AVX512F AVX512_VNNI FMA\n",
      "To enable them in other operations, rebuild TensorFlow with the appropriate compiler flags.\n",
      "2022-12-17 13:10:19.166037: I tensorflow/core/util/port.cc:104] oneDNN custom operations are on. You may see slightly different numerical results due to floating-point round-off errors from different computation orders. To turn them off, set the environment variable `TF_ENABLE_ONEDNN_OPTS=0`.\n",
      "2022-12-17 13:10:19.919082: W tensorflow/compiler/xla/stream_executor/platform/default/dso_loader.cc:64] Could not load dynamic library 'libnvinfer.so.7'; dlerror: libnvinfer.so.7: cannot open shared object file: No such file or directory; LD_LIBRARY_PATH: /usr/local/cuda/extras/CUPTI/lib64:/usr/local/cuda/compat/lib:/usr/local/nvidia/lib:/usr/local/nvidia/lib64\n",
      "2022-12-17 13:10:19.919185: W tensorflow/compiler/xla/stream_executor/platform/default/dso_loader.cc:64] Could not load dynamic library 'libnvinfer_plugin.so.7'; dlerror: libnvinfer_plugin.so.7: cannot open shared object file: No such file or directory; LD_LIBRARY_PATH: /usr/local/cuda/extras/CUPTI/lib64:/usr/local/cuda/compat/lib:/usr/local/nvidia/lib:/usr/local/nvidia/lib64\n",
      "2022-12-17 13:10:19.919193: W tensorflow/compiler/tf2tensorrt/utils/py_utils.cc:38] TF-TRT Warning: Cannot dlopen some TensorRT libraries. If you would like to use Nvidia GPU with TensorRT, please make sure the missing libraries mentioned above are installed properly.\n"
     ]
    },
    {
     "name": "stdout",
     "output_type": "stream",
     "text": [
      "Downloading data from https://github.com/openai/CLIP/blob/main/clip/bpe_simple_vocab_16e6.txt.gz?raw=true\n",
      "1356917/1356917 [==============================] - 0s 0us/step\n"
     ]
    },
    {
     "name": "stderr",
     "output_type": "stream",
     "text": [
      "2022-12-17 13:10:26.437546: I tensorflow/core/platform/cpu_feature_guard.cc:193] This TensorFlow binary is optimized with oneAPI Deep Neural Network Library (oneDNN) to use the following CPU instructions in performance-critical operations:  AVX2 AVX512F AVX512_VNNI FMA\n",
      "To enable them in other operations, rebuild TensorFlow with the appropriate compiler flags.\n",
      "2022-12-17 13:10:27.103258: I tensorflow/core/common_runtime/gpu/gpu_device.cc:1613] Created device /job:localhost/replica:0/task:0/device:GPU:0 with 14780 MB memory:  -> device: 0, name: Quadro RTX 5000, pci bus id: 0000:3f:00.0, compute capability: 7.5\n"
     ]
    },
    {
     "name": "stdout",
     "output_type": "stream",
     "text": [
      "Downloading data from https://huggingface.co/fchollet/stable-diffusion/resolve/main/kcv_encoder.h5\n",
      "492466864/492466864 [==============================] - 11s 0us/step\n",
      "photograph of an astronaut riding a horse\n",
      "[49406, 8853, 539, 550, 18376, 6765, 320, 4558, 49407]\n"
     ]
    }
   ],
   "source": [
    "import tensorflow as tf\n",
    "\n",
    "from tensorflow import keras\n",
    "from keras_cv.models.generative.stable_diffusion.text_encoder import TextEncoder\n",
    "from keras_cv.models.generative.stable_diffusion.clip_tokenizer import SimpleTokenizer\n",
    "from keras_cv.models.generative.stable_diffusion.constants import _UNCONDITIONAL_TOKENS\n",
    "\n",
    "BATCH_SIZE = 4\n",
    "MAX_PROMPT_LENGTH = 77\n",
    "\n",
    "tokenizer = SimpleTokenizer()\n",
    "text_encoder = TextEncoder(MAX_PROMPT_LENGTH)\n",
    "text_encoder_weights_fpath = keras.utils.get_file(\n",
    "    origin=\"https://huggingface.co/fchollet/stable-diffusion/resolve/main/kcv_encoder.h5\",\n",
    "    file_hash=\"4789e63e07c0e54d6a34a29b45ce81ece27060c499a709d556c7755b42bb0dc4\",\n",
    ")\n",
    "text_encoder.load_weights(text_encoder_weights_fpath)\n",
    "pos_ids = tf.convert_to_tensor([list(range(MAX_PROMPT_LENGTH))], dtype=tf.int32)\n",
    "\n",
    "prompt = \"photograph of an astronaut riding a horse\"\n",
    "\n",
    "def _get_unconditional_context():\n",
    "    unconditional_tokens = tf.convert_to_tensor(\n",
    "        [_UNCONDITIONAL_TOKENS], dtype=tf.int32\n",
    "    )\n",
    "    unconditional_context = text_encoder.predict_on_batch(\n",
    "        [unconditional_tokens, pos_ids]\n",
    "    )\n",
    "\n",
    "    return unconditional_context\n",
    "\n",
    "def encode_text(prompt):\n",
    "  # Tokenize prompt (i.e. starting context)\n",
    "  inputs = tokenizer.encode(prompt)\n",
    "  print(inputs)\n",
    "  phrase = inputs + [49407] * (MAX_PROMPT_LENGTH - len(inputs))\n",
    "  phrase = tf.convert_to_tensor([phrase], dtype=tf.int32)\n",
    "\n",
    "  context = text_encoder.predict_on_batch([phrase, pos_ids])\n",
    "\n",
    "  return context  \n",
    "\n",
    "def get_contexts(encoded_text, batch_size):\n",
    "    encoded_text = tf.squeeze(encoded_text)\n",
    "    if encoded_text.shape.rank == 2:\n",
    "        encoded_text = tf.repeat(\n",
    "            tf.expand_dims(encoded_text, axis=0), batch_size, axis=0\n",
    "        )\n",
    "\n",
    "    context = encoded_text\n",
    "\n",
    "    unconditional_context = tf.repeat(\n",
    "        _get_unconditional_context(), batch_size, axis=0\n",
    "    )  \n",
    "\n",
    "    return context, unconditional_context\n",
    "\n",
    "print(prompt)\n",
    "encoded_text = encode_text(prompt)\n",
    "context, unconditional_context = get_contexts(encoded_text, BATCH_SIZE)"
   ]
  },
  {
   "cell_type": "code",
   "execution_count": 3,
   "id": "d2612dd1",
   "metadata": {},
   "outputs": [
    {
     "name": "stdout",
     "output_type": "stream",
     "text": [
      "WARNING:tensorflow:From /usr/local/lib/python3.8/dist-packages/tensorflow/python/autograph/pyct/static_analysis/liveness.py:83: Analyzer.lamba_check (from tensorflow.python.autograph.pyct.static_analysis.liveness) is deprecated and will be removed after 2023-09-23.\n",
      "Instructions for updating:\n",
      "Lambda fuctions will be no more assumed to be used in the statement where they are used, or at least in the same block. https://github.com/tensorflow/tensorflow/issues/56089\n",
      "Downloading data from https://huggingface.co/fchollet/stable-diffusion/resolve/main/kcv_diffusion_model.h5\n",
      "3439090152/3439090152 [==============================] - 72s 0us/step\n"
     ]
    },
    {
     "name": "stderr",
     "output_type": "stream",
     "text": [
      "2022-12-17 13:13:40.363996: I tensorflow/compiler/xla/stream_executor/cuda/cuda_dnn.cc:428] Loaded cuDNN version 8400\n"
     ]
    },
    {
     "name": "stdout",
     "output_type": "stream",
     "text": [
      "25/25 [==============================] - 60s 2s/step\n"
     ]
    }
   ],
   "source": [
    "import math\n",
    "import tensorflow as tf\n",
    "from tensorflow import keras\n",
    "\n",
    "from keras_cv.models.generative.stable_diffusion.constants import _ALPHAS_CUMPROD\n",
    "from keras_cv.models.generative.stable_diffusion.diffusion_model import DiffusionModel\n",
    "\n",
    "seed = None\n",
    "\n",
    "img_height = 512\n",
    "img_width = 512\n",
    "img_height = round(img_height / 128) * 128\n",
    "img_width = round(img_width / 128) * 128\n",
    "\n",
    "num_steps = 25\n",
    "unconditional_guidance_scale = 7.5\n",
    "\n",
    "MAX_PROMPT_LENGTH = 77\n",
    "BATCH_SIZE = 4\n",
    "\n",
    "diffusion_model = DiffusionModel(img_height, img_width, MAX_PROMPT_LENGTH)\n",
    "diffusion_model_weights_fpath = keras.utils.get_file(\n",
    "    origin=\"https://huggingface.co/fchollet/stable-diffusion/resolve/main/kcv_diffusion_model.h5\",\n",
    "    file_hash=\"8799ff9763de13d7f30a683d653018e114ed24a6a819667da4f5ee10f9e805fe\",\n",
    ")\n",
    "diffusion_model.load_weights(diffusion_model_weights_fpath)\n",
    "\n",
    "def _get_initial_diffusion_noise(batch_size, seed):\n",
    "    if seed is not None:\n",
    "        return tf.random.stateless_normal(\n",
    "            (batch_size, img_height // 8, img_width // 8, 4),\n",
    "            seed=[seed, seed],\n",
    "        )\n",
    "    else:\n",
    "        return tf.random.normal(\n",
    "            (batch_size, img_height // 8, img_width // 8, 4)\n",
    "        )\n",
    "\n",
    "def _get_initial_alphas(timesteps):\n",
    "    alphas = [_ALPHAS_CUMPROD[t] for t in timesteps]\n",
    "    alphas_prev = [1.0] + alphas[:-1]\n",
    "\n",
    "    return alphas, alphas_prev\n",
    "\n",
    "def _get_timestep_embedding(timestep, batch_size, dim=320, max_period=10000):\n",
    "    half = dim // 2\n",
    "    freqs = tf.math.exp(\n",
    "        -math.log(max_period) * tf.range(0, half, dtype=tf.float32) / half\n",
    "    )\n",
    "    args = tf.convert_to_tensor([timestep], dtype=tf.float32) * freqs\n",
    "    embedding = tf.concat([tf.math.cos(args), tf.math.sin(args)], 0)\n",
    "    embedding = tf.reshape(embedding, [1, -1])\n",
    "    return tf.repeat(embedding, batch_size, axis=0)\n",
    "\n",
    "latent = _get_initial_diffusion_noise(BATCH_SIZE, seed)\n",
    "\n",
    "# Iterative reverse diffusion stage\n",
    "timesteps = tf.range(1, 1000, 1000 // num_steps)\n",
    "alphas, alphas_prev = _get_initial_alphas(timesteps)\n",
    "\n",
    "progbar = keras.utils.Progbar(len(timesteps))\n",
    "iteration = 0\n",
    "for index, timestep in list(enumerate(timesteps))[::-1]:\n",
    "    latent_prev = latent  # Set aside the previous latent vector\n",
    "    t_emb = _get_timestep_embedding(timestep, BATCH_SIZE)\n",
    "    unconditional_latent = diffusion_model.predict_on_batch(\n",
    "        [latent, t_emb, unconditional_context]\n",
    "    )\n",
    "    latent = diffusion_model.predict_on_batch([latent, t_emb, context])\n",
    "    latent = unconditional_latent + unconditional_guidance_scale * (\n",
    "        latent - unconditional_latent\n",
    "    )\n",
    "    a_t, a_prev = alphas[index], alphas_prev[index]\n",
    "    pred_x0 = (latent_prev - math.sqrt(1 - a_t) * latent) / math.sqrt(a_t)\n",
    "    latent = latent * math.sqrt(1.0 - a_prev) + math.sqrt(a_prev) * pred_x0\n",
    "    iteration += 1\n",
    "    progbar.update(iteration)"
   ]
  },
  {
   "cell_type": "code",
   "execution_count": null,
   "id": "cc9b355b",
   "metadata": {},
   "outputs": [],
   "source": [
    "import numpy as np\n",
    "from keras_cv.models.generative.stable_diffusion.decoder import Decoder\n",
    "\n",
    "img_height = 512\n",
    "img_width = 512\n",
    "img_height = round(img_height / 128) * 128\n",
    "img_width = round(img_width / 128) * 128\n",
    "\n",
    "decoder = Decoder(img_height, img_width)\n",
    "decoder_weights_fpath = keras.utils.get_file(\n",
    "    origin=\"https://huggingface.co/fchollet/stable-diffusion/resolve/main/kcv_decoder.h5\",\n",
    "    file_hash=\"ad350a65cc8bc4a80c8103367e039a3329b4231c2469a1093869a345f55b1962\",\n",
    ")\n",
    "decoder.load_weights(decoder_weights_fpath)\n",
    "\n",
    "decoded = decoder.predict_on_batch(latent)\n",
    "decoded = ((decoded + 1) / 2) * 255\n",
    "images = np.clip(decoded, 0, 255).astype(\"uint8\")"
   ]
  },
  {
   "cell_type": "code",
   "execution_count": null,
   "id": "89e05c26",
   "metadata": {},
   "outputs": [],
   "source": [
    "import matplotlib.pyplot as plt\n",
    "\n",
    "def plot_images(images):\n",
    "    plt.figure(figsize=(20, 20))\n",
    "    for i in range(len(images)):\n",
    "        ax = plt.subplot(1, len(images), i + 1)\n",
    "        plt.imshow(images[i])\n",
    "        plt.axis(\"off\")"
   ]
  },
  {
   "cell_type": "code",
   "execution_count": null,
   "id": "19432a3c",
   "metadata": {},
   "outputs": [],
   "source": [
    "plot_images(images)"
   ]
  }
 ],
 "metadata": {
  "kernelspec": {
   "display_name": "Python 3 (ipykernel)",
   "language": "python",
   "name": "python3"
  },
  "language_info": {
   "codemirror_mode": {
    "name": "ipython",
    "version": 3
   },
   "file_extension": ".py",
   "mimetype": "text/x-python",
   "name": "python",
   "nbconvert_exporter": "python",
   "pygments_lexer": "ipython3",
   "version": "3.8.10"
  }
 },
 "nbformat": 4,
 "nbformat_minor": 5
}
