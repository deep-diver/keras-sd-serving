{
 "cells": [
  {
   "cell_type": "code",
   "execution_count": 8,
   "id": "bb957081-0ffe-4327-b929-961f7925642d",
   "metadata": {},
   "outputs": [
    {
     "name": "stdout",
     "output_type": "stream",
     "text": [
      "Installing collected packages: promise, etils, dill, tensorflow-metadata, tensorflow_datasets\n",
      "Successfully installed dill-0.3.6 etils-0.9.0 promise-2.3 tensorflow-metadata-1.12.0 tensorflow_datasets-4.8.0\n"
     ]
    }
   ],
   "source": [
    "!pip install tensorflow\n",
    "!pip install tensorflow_datasets\n",
    "!pip install git+https://github.com/keras-team/keras-cv -q"
   ]
  },
  {
   "cell_type": "code",
   "execution_count": 2,
   "id": "ba7c4122-d704-41a2-b387-4388321aaa59",
   "metadata": {},
   "outputs": [
    {
     "name": "stderr",
     "output_type": "stream",
     "text": [
      "2022-12-27 16:15:13.417326: I tensorflow/core/platform/cpu_feature_guard.cc:193] This TensorFlow binary is optimized with oneAPI Deep Neural Network Library (oneDNN) to use the following CPU instructions in performance-critical operations:  AVX2 FMA\n",
      "To enable them in other operations, rebuild TensorFlow with the appropriate compiler flags.\n",
      "2022-12-27 16:15:21.162590: W tensorflow/compiler/xla/stream_executor/platform/default/dso_loader.cc:64] Could not load dynamic library 'libnvinfer.so.7'; dlerror: libnvinfer.so.7: cannot open shared object file: No such file or directory; LD_LIBRARY_PATH: /usr/local/cuda/lib64:/usr/local/nccl2/lib:/usr/local/cuda/extras/CUPTI/lib64\n",
      "2022-12-27 16:15:21.163505: W tensorflow/compiler/xla/stream_executor/platform/default/dso_loader.cc:64] Could not load dynamic library 'libnvinfer_plugin.so.7'; dlerror: libnvinfer_plugin.so.7: cannot open shared object file: No such file or directory; LD_LIBRARY_PATH: /usr/local/cuda/lib64:/usr/local/nccl2/lib:/usr/local/cuda/extras/CUPTI/lib64\n",
      "2022-12-27 16:15:21.163523: W tensorflow/compiler/tf2tensorrt/utils/py_utils.cc:38] TF-TRT Warning: Cannot dlopen some TensorRT libraries. If you would like to use Nvidia GPU with TensorRT, please make sure the missing libraries mentioned above are installed properly.\n"
     ]
    },
    {
     "name": "stdout",
     "output_type": "stream",
     "text": [
      "You do not have pycocotools installed, so KerasCV pycoco metrics are not available. Please run `pip install pycocotools`.\n"
     ]
    }
   ],
   "source": [
    "import requests\n",
    "import tensorflow as tf\n",
    "from keras_cv.models.stable_diffusion.clip_tokenizer import SimpleTokenizer"
   ]
  },
  {
   "cell_type": "code",
   "execution_count": 3,
   "id": "84585f67-88bf-406b-ac36-fe91bb2e05b9",
   "metadata": {},
   "outputs": [],
   "source": [
    "MAX_PROMPT_LENGTH = 77\n",
    "PADDING_TOKEN = 49407\n",
    "\n",
    "prompt = \"photograph of an astronaut riding a horse in a green desert\"\n",
    "batch_size = 4\n",
    "num_steps = 25"
   ]
  },
  {
   "cell_type": "code",
   "execution_count": 5,
   "id": "09458356-2c4c-46e8-8add-521d6abe0783",
   "metadata": {},
   "outputs": [
    {
     "data": {
      "text/plain": [
       "<tf.Tensor: shape=(1, 77), dtype=int32, numpy=\n",
       "array([[49406,  8853,   539,   550, 18376,  6765,   320,  4558,   530,\n",
       "          320,  1901,  7301, 49407, 49407, 49407, 49407, 49407, 49407,\n",
       "        49407, 49407, 49407, 49407, 49407, 49407, 49407, 49407, 49407,\n",
       "        49407, 49407, 49407, 49407, 49407, 49407, 49407, 49407, 49407,\n",
       "        49407, 49407, 49407, 49407, 49407, 49407, 49407, 49407, 49407,\n",
       "        49407, 49407, 49407, 49407, 49407, 49407, 49407, 49407, 49407,\n",
       "        49407, 49407, 49407, 49407, 49407, 49407, 49407, 49407, 49407,\n",
       "        49407, 49407, 49407, 49407, 49407, 49407, 49407, 49407, 49407,\n",
       "        49407, 49407, 49407, 49407, 49407]], dtype=int32)>"
      ]
     },
     "execution_count": 5,
     "metadata": {},
     "output_type": "execute_result"
    }
   ],
   "source": [
    "tokenizer = SimpleTokenizer()\n",
    "tokens = tokenizer.encode(prompt)\n",
    "tokens = tokens + [PADDING_TOKEN] * (MAX_PROMPT_LENGTH - len(tokens))\n",
    "tokens = tf.convert_to_tensor([tokens], dtype=tf.int32)\n",
    "tokens"
   ]
  },
  {
   "cell_type": "code",
   "execution_count": 6,
   "id": "7462131a-b598-4206-b002-3cc536303540",
   "metadata": {},
   "outputs": [
    {
     "name": "stdout",
     "output_type": "stream",
     "text": [
      "Data: {\"signature_name\": \"serving_default\", \"inputs\": {\" ... 407, 49407, 49407, 49407, 49407]], \"batch_size\": 4}}\n"
     ]
    }
   ],
   "source": [
    "import json\n",
    "import base64\n",
    "\n",
    "data = json.dumps(\n",
    "    {\n",
    "        \"signature_name\": \"serving_default\", \n",
    "        \"inputs\": {\n",
    "            \"tokens\": tokens.numpy().tolist(),\n",
    "            \"batch_size\": batch_size\n",
    "        }\n",
    "})\n",
    "print(\"Data: {} ... {}\".format(data[:50], data[len(data) - 52 :]))"
   ]
  },
  {
   "cell_type": "code",
   "execution_count": 7,
   "id": "38112b58-fd00-4831-9aef-eb275a6a6fa5",
   "metadata": {},
   "outputs": [],
   "source": [
    "ADDRESS = \"35.223.196.169\"\n",
    "\n",
    "headers = {\"content-type\": \"application/json\"}\n",
    "\n",
    "response = requests.post(\n",
    "    f\"http://{ADDRESS}:8501/v1/models/text-encoder:predict\", data=data, headers=headers\n",
    ")"
   ]
  },
  {
   "cell_type": "code",
   "execution_count": 8,
   "id": "1e217af3-a1de-410a-8b89-d6aed66eb33a",
   "metadata": {},
   "outputs": [
    {
     "data": {
      "text/plain": [
       "<Response [200]>"
      ]
     },
     "execution_count": 8,
     "metadata": {},
     "output_type": "execute_result"
    }
   ],
   "source": [
    "response"
   ]
  },
  {
   "cell_type": "code",
   "execution_count": 9,
   "id": "17c0c46f-baf3-4455-a3a6-e368455d42e1",
   "metadata": {},
   "outputs": [],
   "source": [
    "json_response = json.loads(response.text)"
   ]
  },
  {
   "cell_type": "code",
   "execution_count": null,
   "id": "bcb2f4e5-df54-43b7-bf35-da757f596890",
   "metadata": {},
   "outputs": [],
   "source": []
  },
  {
   "cell_type": "code",
   "execution_count": 10,
   "id": "0280d56d-6d45-487b-819f-b04cc409d25d",
   "metadata": {},
   "outputs": [
    {
     "name": "stdout",
     "output_type": "stream",
     "text": [
      "Data: {\"signature_name\": \"serving_default\", \"inputs\": {\" ... 13616526, 1.61077094, -1.01735497, -0.248378605]]]}}\n"
     ]
    }
   ],
   "source": [
    "import json\n",
    "import base64\n",
    "\n",
    "data = json.dumps(\n",
    "    {\n",
    "        \"signature_name\": \"serving_default\", \n",
    "        \"inputs\": {\n",
    "            \"batch_size\": batch_size,\n",
    "            \"context\": json_response['outputs']['context'],\n",
    "            \"num_steps\": num_steps,\n",
    "            \"unconditional_context\": json_response['outputs']['unconditional_context']\n",
    "        }\n",
    "})\n",
    "\n",
    "print(\"Data: {} ... {}\".format(data[:50], data[len(data) - 52 :]))"
   ]
  },
  {
   "cell_type": "code",
   "execution_count": 13,
   "id": "ba28e241-9685-49cd-8a69-25ed9ae88f2b",
   "metadata": {},
   "outputs": [],
   "source": [
    "ADDRESS = \"127.0.0.1\"\n",
    "\n",
    "headers = {\n",
    "    \"content-type\": \"application/json\"\n",
    "}\n",
    "\n",
    "response = requests.post(\n",
    "    f\"http://{ADDRESS}:8501/v1/models/diffusion-model:predict\", data=data, headers=headers\n",
    ")"
   ]
  },
  {
   "cell_type": "code",
   "execution_count": 15,
   "id": "d1011f9c-efac-4649-ad38-5ac1180a739e",
   "metadata": {},
   "outputs": [
    {
     "data": {
      "text/plain": [
       "<Response [200]>"
      ]
     },
     "execution_count": 15,
     "metadata": {},
     "output_type": "execute_result"
    }
   ],
   "source": [
    "response"
   ]
  },
  {
   "cell_type": "code",
   "execution_count": 16,
   "id": "483da214-7f82-403c-a8b4-3afd8f6ad9c1",
   "metadata": {},
   "outputs": [],
   "source": [
    "json_response = json.loads(response.text)"
   ]
  },
  {
   "cell_type": "code",
   "execution_count": 20,
   "id": "4d0ada36-8d4c-4e08-9af8-09d1d16ddf5e",
   "metadata": {},
   "outputs": [
    {
     "name": "stdout",
     "output_type": "stream",
     "text": [
      "Data: {\"signature_name\": \"serving_default\", \"inputs\": {\" ... 514778, 0.0969543606, 0.457462698, 0.747850716]]]]}}\n"
     ]
    }
   ],
   "source": [
    "import json\n",
    "import base64\n",
    "\n",
    "data = json.dumps(\n",
    "    {\n",
    "        \"signature_name\": \"serving_default\", \n",
    "        \"inputs\": {\n",
    "            \"latent\": json_response['outputs'],\n",
    "        }\n",
    "})\n",
    "\n",
    "print(\"Data: {} ... {}\".format(data[:50], data[len(data) - 52 :]))"
   ]
  },
  {
   "cell_type": "code",
   "execution_count": 21,
   "id": "9d6e6b32-e86e-4625-b8f0-b07acae17f11",
   "metadata": {},
   "outputs": [],
   "source": [
    "ADDRESS = \"127.0.0.1\"\n",
    "\n",
    "headers = {\n",
    "    \"content-type\": \"application/json\"\n",
    "}\n",
    "\n",
    "response = requests.post(\n",
    "    f\"http://{ADDRESS}:8501/v1/models/decoder:predict\", data=data, headers=headers\n",
    ")"
   ]
  },
  {
   "cell_type": "code",
   "execution_count": 22,
   "id": "9dec73cb-9fc8-4ff0-b0f9-4f3c4f8ca9f8",
   "metadata": {},
   "outputs": [
    {
     "data": {
      "text/plain": [
       "<Response [200]>"
      ]
     },
     "execution_count": 22,
     "metadata": {},
     "output_type": "execute_result"
    }
   ],
   "source": [
    "response"
   ]
  },
  {
   "cell_type": "code",
   "execution_count": 23,
   "id": "7228d135-e8f4-4b0b-bc5b-e926bee3e1f1",
   "metadata": {},
   "outputs": [],
   "source": [
    "json_response = json.loads(response.text)"
   ]
  },
  {
   "cell_type": "code",
   "execution_count": null,
   "id": "fbb51451-2609-49fb-87a6-affa916a5eea",
   "metadata": {},
   "outputs": [],
   "source": [
    "tf.convert_to_tensor(json_response['outputs'])"
   ]
  },
  {
   "cell_type": "code",
   "execution_count": 27,
   "id": "e18a4c3a-9e26-4383-b5a8-85f002f01d6f",
   "metadata": {},
   "outputs": [],
   "source": [
    "import matplotlib.pyplot as plt\n",
    "\n",
    "\n",
    "def plot_images(images):\n",
    "    plt.figure(figsize=(20, 20))\n",
    "    for i in range(len(images)):\n",
    "        ax = plt.subplot(1, len(images), i + 1)\n",
    "        plt.imshow(images[i])\n",
    "        plt.axis(\"off\")"
   ]
  },
  {
   "cell_type": "code",
   "execution_count": null,
   "id": "f09c5dc6-f928-432b-9b31-ced8e9a2cd0a",
   "metadata": {},
   "outputs": [],
   "source": []
  }
 ],
 "metadata": {
  "environment": {
   "kernel": "python3",
   "name": "common-cu110.m102",
   "type": "gcloud",
   "uri": "gcr.io/deeplearning-platform-release/base-cu110:m102"
  },
  "kernelspec": {
   "display_name": "Python 3",
   "language": "python",
   "name": "python3"
  },
  "language_info": {
   "codemirror_mode": {
    "name": "ipython",
    "version": 3
   },
   "file_extension": ".py",
   "mimetype": "text/x-python",
   "name": "python",
   "nbconvert_exporter": "python",
   "pygments_lexer": "ipython3",
   "version": "3.7.12"
  }
 },
 "nbformat": 4,
 "nbformat_minor": 5
}
